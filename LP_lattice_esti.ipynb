{
 "cells": [
  {
   "cell_type": "code",
   "execution_count": null,
   "metadata": {},
   "outputs": [],
   "source": [
    "from sage.all import oo\n",
    "from estimator import *\n",
    "\n",
    "# Time complexity of coded-BKW in lattice-estimator for LP parameters\n",
    "# Some results also refer to the literature [GJS15] *Coded-BKW Solving LWE Using Lattice Codes* and [DTV15] *Better Algorithms for LWE and LWR*\n",
    "\n",
    "# Define the parameters\n",
    "Xs=ND.DiscreteGaussian(sigma)\n",
    "Xe=ND.DiscreteGaussian(sigma)\n",
    "LWEParameters=LWE.Parameters(n, q, Xs=Xs, Xe=Xe).normalize()\n",
    "LWE.coded_bkw(LWEParameters)\n",
    "\n",
    "# n = 512, q = 4099, sigma=3.0\n",
    "# n = 128, q = 2053, sigma=2.70\n",
    "# n = 192, q = 4099, sigma=8.87\n",
    "# n = 320, q = 4099, sigma=8.00"
   ]
  },
  {
   "cell_type": "code",
   "execution_count": null,
   "metadata": {},
   "outputs": [],
   "source": []
  }
 ],
 "metadata": {
  "kernelspec": {
   "display_name": "SageMath 9.3",
   "language": "sage",
   "name": "sagemath"
  },
  "language_info": {
   "codemirror_mode": {
    "name": "ipython",
    "version": 3
   },
   "file_extension": ".py",
   "mimetype": "text/x-python",
   "name": "python",
   "nbconvert_exporter": "python",
   "pygments_lexer": "ipython3",
   "version": "3.7.10"
  }
 },
 "nbformat": 4,
 "nbformat_minor": 4
}
