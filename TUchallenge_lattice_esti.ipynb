{
 "cells": [
  {
   "cell_type": "code",
   "execution_count": null,
   "metadata": {},
   "outputs": [],
   "source": [
    "from sage.all import *\n",
    "from estimator import *\n",
    "\n",
    "# Time complexity in log(2) of coded-BKW in lattice-estimator for some TU Darmstadt LWE challenges\n",
    "# Some results also refer to the literature [BGJ+21] *Improvements on Making BKW Practical for Solving LWE*.\n",
    "# Define the parameters\n",
    "n = 40\n",
    "q = 1601\n",
    "a_values = [0.005, 0.01, 0.015, 0.02, 0.025, 0.03]\n",
    "\n",
    "# n = 50\n",
    "# q = 2503\n",
    "# a_values = [0.005, 0.01, 0.015, 0.02, 0.025, 0.03]\n",
    "\n",
    "# n = 70\n",
    "# q = 4903\n",
    "# a_values = [0.005, 0.01, 0.015]\n",
    "\n",
    "# n = 120\n",
    "# q = 14401\n",
    "# a_values = [0.005, 0.01, 0.015]\n",
    "\n",
    "# Function to compute and output the result for a given a\n",
    "def compute_lwe_result(a):\n",
    "    sigma = a * q\n",
    "    Xs = ND.DiscreteGaussian(sigma)\n",
    "    Xe = ND.DiscreteGaussian(sigma)\n",
    "    LWEParameters = LWE.Parameters(n=n, q=q, Xs=Xs, Xe=Xe).normalize()\n",
    "    result = LWE.coded_bkw(LWEParameters)\n",
    "    return result\n",
    "\n",
    "# Iterate over each value of a and compute the results\n",
    "for a in a_values:\n",
    "    result = compute_lwe_result(a)\n",
    "    print(f\"Result for a={a}: {result}\")\n"
   ]
  },
  {
   "cell_type": "code",
   "execution_count": null,
   "metadata": {},
   "outputs": [],
   "source": []
  }
 ],
 "metadata": {
  "kernelspec": {
   "display_name": "SageMath 9.3",
   "language": "sage",
   "name": "sagemath"
  },
  "language_info": {
   "codemirror_mode": {
    "name": "ipython",
    "version": 3
   },
   "file_extension": ".py",
   "mimetype": "text/x-python",
   "name": "python",
   "nbconvert_exporter": "python",
   "pygments_lexer": "ipython3",
   "version": "3.7.10"
  }
 },
 "nbformat": 4,
 "nbformat_minor": 4
}
