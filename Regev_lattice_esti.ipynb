{
 "cells": [
  {
   "cell_type": "code",
   "execution_count": null,
   "metadata": {},
   "outputs": [],
   "source": [
    "from sage.all import *\n",
    "from estimator import *  # Assuming you have this module and it has LWE and ND classes\n",
    "\n",
    "\n",
    "# Time complexity of coded-BKW in lattice-estimator for Regev parameters\n",
    "# Some results such as n=128/256/512 also refer to the literature [GJS15] *Coded-BKW Solving LWE Using Lattice Codes* and [DTV15] *Better Algorithms for LWE and LWR*\n",
    "\n",
    "# Define the parameter pairs\n",
    "parameters_list = [\n",
    "    (64, 4099),\n",
    "    (80, 6421),\n",
    "    (96, 9221),\n",
    "    (112, 12547),\n",
    "    (128, 16411),\n",
    "    (160, 25601),\n",
    "    (224, 50177),\n",
    "    (256, 65537),\n",
    "    (384, 147457),\n",
    "    (512, 262147),\n",
    "]\n",
    "\n",
    "# Function to compute and output the result for a given (n, q) pair\n",
    "def compute_lwe_result(n, q):\n",
    "    sigma = q / (sqrt(n) * (log(n, 2))^2 * sqrt(2 * pi))\n",
    "    Xs = ND.DiscreteGaussian(sigma)\n",
    "    Xe = ND.DiscreteGaussian(sigma)\n",
    "    LWEParameters = LWE.Parameters(n=n, q=q, Xs=Xs, Xe=Xe).normalize()\n",
    "    result = LWE.coded_bkw(LWEParameters)\n",
    "    return result\n",
    "\n",
    "# Iterate over each parameter pair and compute the results\n",
    "for n, q in parameters_list:\n",
    "    result = compute_lwe_result(n, q)\n",
    "    print(f\"Result for n={n}, q={q}: {result}\")\n"
   ]
  },
  {
   "cell_type": "code",
   "execution_count": null,
   "metadata": {},
   "outputs": [],
   "source": []
  }
 ],
 "metadata": {
  "kernelspec": {
   "display_name": "SageMath 9.3",
   "language": "sage",
   "name": "sagemath"
  },
  "language_info": {
   "codemirror_mode": {
    "name": "ipython",
    "version": 3
   },
   "file_extension": ".py",
   "mimetype": "text/x-python",
   "name": "python",
   "nbconvert_exporter": "python",
   "pygments_lexer": "ipython3",
   "version": "3.7.10"
  }
 },
 "nbformat": 4,
 "nbformat_minor": 4
}
