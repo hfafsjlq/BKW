{
 "cells": [
  {
   "cell_type": "code",
   "execution_count": 43,
   "metadata": {},
   "outputs": [
    {
     "name": "stdout",
     "output_type": "stream",
     "text": [
      "[1, 2, 4, 7, 11, 16, 22, 29, 37, 46, 56, 67, 79, 92, 106, 121, 137, 154, 172, 191, 211, 232]\n"
     ]
    }
   ],
   "source": [
    "curve3_c = [1, 2]  # c_{-1}=1, c_0=2\n",
    "for i in range(1, 21):\n",
    "    next_value = curve3_c[-1] + i+1  # Calculate next c's value\n",
    "    curve3_c.append(next_value)  # Add to the list\n",
    "\n",
    "# Calculate the values of \\( c \\) for curve3.\n",
    "print(curve3_c)\n"
   ]
  },
  {
   "cell_type": "code",
   "execution_count": null,
   "metadata": {},
   "outputs": [],
   "source": [
    "import numpy as np\n",
    "import matplotlib.pyplot as plt\n",
    "\n",
    "\n",
    "c_values = np.arange(2, 131)  \n",
    "\n",
    "# Initialize.\n",
    "curve1_x, curve1_y = [], []\n",
    "curve2_x, curve2_y = [], []\n",
    "curve3_x, curve3_y = [], []\n",
    "curve4_x, curve4_y = [], []\n",
    "\n",
    "# curve1 quantum\n",
    "for c in c_values:\n",
    "    x = 1 / (c - 1) * np.log2(c)\n",
    "    y = 1 / 2 * np.log2(c) * (c / (c - 1))\n",
    "    if np.isclose(x * (c - 2) / 2 + y, np.log2(c)):\n",
    "        curve1_x.append(x)\n",
    "        curve1_y.append(y)\n",
    "\n",
    "# curve2 PCS\n",
    "for c in c_values:\n",
    "    x = 2 / (c - 1) * np.log2(c)\n",
    "    y = (1 / 2 + 1 / (c - 1)) * np.log2(c)\n",
    "    if np.isclose(x * (c - 3) / 4 + y, np.log2(c)):\n",
    "        curve2_x.append(x)\n",
    "        curve2_y.append(y)\n",
    "\n",
    "# curve3 dissection\n",
    "ccc = [2, 4, 7, 11, 16, 22, 29, 37, 46, 56, 67, 79, 92, 106, 121, 137, 154, 172, 191, 211, 232]\n",
    "for i, c_i in enumerate(ccc, start=0):  # Index from 1.\n",
    "    x = np.log2(c_i) / (c_i - 1)\n",
    "    y = (1 - i / (c_i - 1)) * np.log2(c_i) \n",
    "    if np.isclose(x * i + y, np.log2(c_i)): \n",
    "        curve3_x.append(x)\n",
    "        curve3_y.append(y)\n",
    "\n",
    "# curve4 naive\n",
    "for c in c_values:\n",
    "    x = np.log2(c) / (c - 1)\n",
    "    y = np.log2(c)\n",
    "    if np.isclose(x * ((c - 1) / 2) + y * 1 / 2, np.log2(c)):\n",
    "        curve4_x.append(x)\n",
    "        curve4_y.append(y)\n",
    "\n",
    "# plot\n",
    "plt.figure(figsize=(8, 8))\n",
    "\n",
    "# plotcurve1\n",
    "plt.plot(curve1_x, curve1_y, linestyle='--', color='b', alpha=0.5)  # \n",
    "plt.scatter(curve1_x, curve1_y, color='b', marker='^', label='c-sum-quantum-BKW')\n",
    "\n",
    "# plotcurve2\n",
    "plt.plot(curve2_x, curve2_y, linestyle='--', color='g', alpha=0.5)  # \n",
    "plt.scatter(curve2_x, curve2_y, color='g', label='c-sum-PCS-BKW')\n",
    "\n",
    "# plotcurve3\n",
    "plt.plot(curve3_x, curve3_y, linestyle='--', color='r', alpha=0.5)  # \n",
    "plt.scatter(curve3_x, curve3_y, color='r', marker='*', label='c-sum-dissect-BKW')\n",
    "\n",
    "# plotcurve4\n",
    "plt.plot(curve4_x, curve4_y, linestyle='--', color='m', alpha=0.5)  # \n",
    "plt.scatter(curve4_x, curve4_y, color='m', marker='s', label='c-sum-naive-BKW')\n",
    "\n",
    "\n",
    "plt.xlabel('log M in n')\n",
    "plt.ylabel('log T in n')\n",
    "plt.xlim(0, 1)  \n",
    "plt.ylim(0.5, 4)  \n",
    "\n",
    "\n",
    "plt.xticks(np.arange(0, 1.1, 0.1))  \n",
    "plt.yticks(np.arange(1, 5, 0.5))  \n",
    "\n",
    "plt.grid(True, which='both', linestyle='--', linewidth=0.5)\n",
    "\n",
    "\n",
    "handles, labels = plt.gca().get_legend_handles_labels()\n",
    "plt.legend(handles, labels, loc='best', handletextpad=1, labelspacing=1.2)\n",
    "\n",
    "\n",
    "plt.savefig('high_res_plot.png', dpi=300, bbox_inches='tight')\n",
    "\n",
    "\n",
    "plt.show()\n"
   ]
  },
  {
   "cell_type": "code",
   "execution_count": null,
   "metadata": {},
   "outputs": [],
   "source": []
  }
 ],
 "metadata": {
  "kernelspec": {
   "display_name": "Python 3",
   "language": "python",
   "name": "python3"
  },
  "language_info": {
   "codemirror_mode": {
    "name": "ipython",
    "version": 3
   },
   "file_extension": ".py",
   "mimetype": "text/x-python",
   "name": "python",
   "nbconvert_exporter": "python",
   "pygments_lexer": "ipython3",
   "version": "3.7.10"
  }
 },
 "nbformat": 4,
 "nbformat_minor": 4
}
